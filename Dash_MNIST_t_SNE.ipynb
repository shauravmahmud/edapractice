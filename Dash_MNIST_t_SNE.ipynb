{
  "nbformat": 4,
  "nbformat_minor": 0,
  "metadata": {
    "colab": {
      "name": "Dash MNIST t-SNE",
      "provenance": [],
      "collapsed_sections": [],
      "include_colab_link": true
    },
    "kernelspec": {
      "name": "python3",
      "display_name": "Python 3"
    },
    "language_info": {
      "name": "python"
    }
  },
  "cells": [
    {
      "cell_type": "markdown",
      "metadata": {
        "id": "view-in-github",
        "colab_type": "text"
      },
      "source": [
        "<a href=\"https://colab.research.google.com/github/shauravmahmud/edapractice/blob/main/Dash_MNIST_t_SNE.ipynb\" target=\"_parent\"><img src=\"https://colab.research.google.com/assets/colab-badge.svg\" alt=\"Open In Colab\"/></a>"
      ]
    },
    {
      "cell_type": "code",
      "metadata": {
        "id": "KTEcP6ZBSKMR",
        "outputId": "6b04627b-0f98-4c7f-c8b8-0ca920e3286e",
        "colab": {
          "base_uri": "https://localhost:8080/"
        }
      },
      "source": [
        "!pip install --q dash==2.0.0 jupyter-dash==0.4.0;"
      ],
      "execution_count": 1,
      "outputs": [
        {
          "output_type": "stream",
          "name": "stdout",
          "text": [
            "\u001b[K     |████████████████████████████████| 7.3 MB 5.4 MB/s \n",
            "\u001b[K     |████████████████████████████████| 23.9 MB 14 kB/s \n",
            "\u001b[K     |████████████████████████████████| 357 kB 52.6 MB/s \n",
            "\u001b[?25h  Building wheel for dash-core-components (setup.py) ... \u001b[?25l\u001b[?25hdone\n",
            "  Building wheel for dash-html-components (setup.py) ... \u001b[?25l\u001b[?25hdone\n",
            "  Building wheel for dash-table (setup.py) ... \u001b[?25l\u001b[?25hdone\n"
          ]
        }
      ]
    },
    {
      "cell_type": "code",
      "metadata": {
        "colab": {
          "base_uri": "https://localhost:8080/"
        },
        "id": "caDUOCoJSmvz",
        "outputId": "81b9bf24-d48b-4947-fae4-787a7ded9d67"
      },
      "source": [
        "from keras.datasets import mnist\n",
        "\n",
        "X, y = mnist.load_data()[0]\n",
        "\n",
        "images = []\n",
        "labels = []\n",
        "\n",
        "# create 100 of each digit\n",
        "for num in range(10):\n",
        "  imgs = []\n",
        "  labels_inner = []\n",
        "  for img, label in zip(X, y):\n",
        "    if len(imgs) >= 100: break\n",
        "    if label == num:\n",
        "      imgs.append(img)\n",
        "      labels_inner.append(num)\n",
        "  images += imgs\n",
        "  labels += labels_inner\n",
        "\n",
        "len(images)\n",
        "len(labels)"
      ],
      "execution_count": 2,
      "outputs": [
        {
          "output_type": "stream",
          "name": "stdout",
          "text": [
            "Downloading data from https://storage.googleapis.com/tensorflow/tf-keras-datasets/mnist.npz\n",
            "11493376/11490434 [==============================] - 0s 0us/step\n",
            "11501568/11490434 [==============================] - 0s 0us/step\n"
          ]
        },
        {
          "output_type": "execute_result",
          "data": {
            "text/plain": [
              "1000"
            ]
          },
          "metadata": {},
          "execution_count": 2
        }
      ]
    },
    {
      "cell_type": "code",
      "metadata": {
        "colab": {
          "base_uri": "https://localhost:8080/",
          "height": 671
        },
        "id": "kSgeDgAgPmn2",
        "outputId": "9c907aee-b736-46e0-ca42-66c606f6a18f"
      },
      "source": [
        "import io\n",
        "import base64\n",
        "import pickle\n",
        "import gzip\n",
        "\n",
        "import numpy as np\n",
        "\n",
        "from jupyter_dash import JupyterDash\n",
        "from dash import dcc, html, Input, Output, no_update\n",
        "import plotly.graph_objects as go\n",
        "\n",
        "from PIL import Image\n",
        "\n",
        "from sklearn.manifold import TSNE\n",
        "\n",
        "# Helper functions\n",
        "def np_image_to_base64(im_matrix):\n",
        "    im = Image.fromarray(im_matrix)\n",
        "    buffer = io.BytesIO()\n",
        "    im.save(buffer, format=\"jpeg\")\n",
        "    encoded_image = base64.b64encode(buffer.getvalue()).decode()\n",
        "    im_url = \"data:image/jpeg;base64, \" + encoded_image\n",
        "    return im_url\n",
        "\n",
        "# Flatten image matrices from (28,28) to (784,)\n",
        "flattenend_images = [i.flatten() for i in images]\n",
        "\n",
        "# t-SNE Outputs a 3 dimensional point for each image\n",
        "tsne = TSNE(\n",
        "    random_state = 123,\n",
        "    n_components=3,\n",
        "    verbose=0,\n",
        "    perplexity=40,\n",
        "    n_iter=300) \\\n",
        "    .fit_transform(flattenend_images)\n",
        "\n",
        "# Color for each digit\n",
        "color_map = {\n",
        "    0: \"#E52B50\",\n",
        "    1: \"#9F2B68\",\n",
        "    2: \"#3B7A57\",\n",
        "    3: \"#3DDC84\",\n",
        "    4: \"#FFBF00\",\n",
        "    5: \"#915C83\",\n",
        "    6: \"#008000\",\n",
        "    7: \"#7FFFD4\",\n",
        "    8: \"#E9D66B\",\n",
        "    9: \"#007FFF\",\n",
        "}\n",
        "colors = [color_map[l] for l in labels]\n",
        "\n",
        "fig = go.Figure(data=[go.Scatter3d(\n",
        "    x=tsne[:, 0],\n",
        "    y=tsne[:, 1],\n",
        "    z=tsne[:, 2],\n",
        "    mode='markers',\n",
        "    marker=dict(\n",
        "        size=2,\n",
        "        color=colors,\n",
        "    )\n",
        ")])\n",
        "\n",
        "fig.update_traces(\n",
        "    hoverinfo=\"none\",\n",
        "    hovertemplate=None,\n",
        ")\n",
        "fig.update_layout(\n",
        "    scene=dict(\n",
        "        xaxis=dict(range=[-10,10]),\n",
        "        yaxis=dict(range=[-10,10]),\n",
        "        zaxis=dict(range=[-10,10]),   \n",
        "    )\n",
        ")\n",
        "\n",
        "app = JupyterDash(__name__)\n",
        "\n",
        "app.layout = html.Div(\n",
        "    className=\"container\",\n",
        "    children=[\n",
        "        dcc.Graph(id=\"graph-5\", figure=fig, clear_on_unhover=True),\n",
        "        dcc.Tooltip(id=\"graph-tooltip-5\", direction='bottom'),\n",
        "    ],\n",
        ")\n",
        "\n",
        "@app.callback(\n",
        "    Output(\"graph-tooltip-5\", \"show\"),\n",
        "    Output(\"graph-tooltip-5\", \"bbox\"),\n",
        "    Output(\"graph-tooltip-5\", \"children\"),\n",
        "    Input(\"graph-5\", \"hoverData\"),\n",
        ")\n",
        "def display_hover(hoverData):\n",
        "    if hoverData is None:\n",
        "        return False, no_update, no_update\n",
        "\n",
        "    # demo only shows the first point, but other points may also be available\n",
        "    hover_data = hoverData[\"points\"][0]\n",
        "    bbox = hover_data[\"bbox\"]\n",
        "    num = hover_data[\"pointNumber\"]\n",
        "\n",
        "    im_matrix = images[num]\n",
        "    im_url = np_image_to_base64(im_matrix)\n",
        "    children = [\n",
        "        html.Div([\n",
        "            html.Img(\n",
        "                src=im_url,\n",
        "                style={\"width\": \"50px\", 'display': 'block', 'margin': '0 auto'},\n",
        "            ),\n",
        "            html.P(\"MNIST Digit \" + str(labels[num]), style={'font-weight': 'bold'})\n",
        "        ])\n",
        "    ]\n",
        "\n",
        "    return True, bbox, children\n",
        "\n",
        "if __name__ == \"__main__\":\n",
        "    app.run_server(mode='inline', debug=True)"
      ],
      "execution_count": 3,
      "outputs": [
        {
          "output_type": "display_data",
          "data": {
            "application/javascript": [
              "(async (port, path, width, height, cache, element) => {\n",
              "    if (!google.colab.kernel.accessAllowed && !cache) {\n",
              "      return;\n",
              "    }\n",
              "    element.appendChild(document.createTextNode(''));\n",
              "    const url = await google.colab.kernel.proxyPort(port, {cache});\n",
              "    const iframe = document.createElement('iframe');\n",
              "    iframe.src = new URL(path, url).toString();\n",
              "    iframe.height = height;\n",
              "    iframe.width = width;\n",
              "    iframe.style.border = 0;\n",
              "    element.appendChild(iframe);\n",
              "  })(8050, \"/\", \"100%\", 650, false, window.element)"
            ],
            "text/plain": [
              "<IPython.core.display.Javascript object>"
            ]
          },
          "metadata": {}
        }
      ]
    }
  ]
}